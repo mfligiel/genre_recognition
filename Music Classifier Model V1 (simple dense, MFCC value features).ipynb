{
 "cells": [
  {
   "cell_type": "code",
   "execution_count": 1,
   "metadata": {},
   "outputs": [],
   "source": [
    "import os\n",
    "import random\n",
    "import numpy as np\n",
    "import re\n",
    "import matplotlib.pyplot as plt"
   ]
  },
  {
   "cell_type": "code",
   "execution_count": 2,
   "metadata": {},
   "outputs": [
    {
     "data": {
      "text/plain": [
       "['7',\n",
       " 'Beach House',\n",
       " 'Bloom',\n",
       " 'Depression Cherry',\n",
       " 'Devotion',\n",
       " 'Teen Dream',\n",
       " 'Thank Your Lucky Stars']"
      ]
     },
     "execution_count": 2,
     "metadata": {},
     "output_type": "execute_result"
    }
   ],
   "source": [
    "\n",
    "pth = \"C:\\\\Users\\\\matfl\\\\Music\\\\iTunes\\\\iTunes Media\\\\Music\\\\\"\n",
    "os.listdir(pth+\"Beach House\")"
   ]
  },
  {
   "cell_type": "code",
   "execution_count": 3,
   "metadata": {},
   "outputs": [
    {
     "data": {
      "text/plain": [
       "['A Good Night For A Fistfight (Live At Is',\n",
       " 'Hello Sadness',\n",
       " 'Hold on Now, Youngster.._',\n",
       " 'NO BLUES',\n",
       " 'Romance Is Boring',\n",
       " 'Sick Scenes',\n",
       " 'Sticking Fingers Into Sockets',\n",
       " 'Tiptoe Through The True Bits',\n",
       " 'Too Many Flesh Suppers (Single)',\n",
       " 'We Are  Beautiful, We Are Doomed Disc 1',\n",
       " 'We Throw Parties, You Throw Knives']"
      ]
     },
     "execution_count": 3,
     "metadata": {},
     "output_type": "execute_result"
    }
   ],
   "source": [
    "os.listdir(pth+\"Los Campesinos!\")"
   ]
  },
  {
   "cell_type": "markdown",
   "metadata": {},
   "source": [
    "Okay, now that I have looked at the files - let me loop through and see how many of each file type we have."
   ]
  },
  {
   "cell_type": "code",
   "execution_count": 4,
   "metadata": {},
   "outputs": [],
   "source": [
    "out = []\n",
    "for i in os.listdir(pth+\"Los Campesinos!\"):\n",
    "    lv = os.listdir(pth+\"Los Campesinos!\\\\\"+i)\n",
    "    ft = [i[-4:] for i in lv]\n",
    "    out.extend(ft)"
   ]
  },
  {
   "cell_type": "code",
   "execution_count": 5,
   "metadata": {},
   "outputs": [
    {
     "data": {
      "text/plain": [
       "Counter({'.mp3': 49, '.m4a': 45})"
      ]
     },
     "execution_count": 5,
     "metadata": {},
     "output_type": "execute_result"
    }
   ],
   "source": [
    "from collections import Counter\n",
    "Counter(out)"
   ]
  },
  {
   "cell_type": "code",
   "execution_count": 6,
   "metadata": {},
   "outputs": [
    {
     "data": {
      "text/plain": [
       "Counter({'.m4a': 42, '.mp3': 27})"
      ]
     },
     "execution_count": 6,
     "metadata": {},
     "output_type": "execute_result"
    }
   ],
   "source": [
    "out = []\n",
    "for i in os.listdir(pth+\"Beach House\"):\n",
    "    lv = os.listdir(pth+\"Beach House\\\\\"+i)\n",
    "    ft = [i[-4:] for i in lv]\n",
    "    out.extend(ft)\n",
    "    \n",
    "Counter(out)"
   ]
  },
  {
   "cell_type": "markdown",
   "metadata": {},
   "source": [
    "Okay, so I will need to handle both m4a and mp3 files.  I'll want to make sure I build a function that can load both, on top of the libraries, and then also do test train split at a song level.  From there i can build 30 second clips of each."
   ]
  },
  {
   "cell_type": "code",
   "execution_count": 7,
   "metadata": {},
   "outputs": [],
   "source": [
    "import librosa\n",
    "from audio2numpy import open_audio\n",
    "from pydub import AudioSegment\n",
    "import sounddevice as sd"
   ]
  },
  {
   "cell_type": "code",
   "execution_count": 8,
   "metadata": {},
   "outputs": [],
   "source": [
    "example_mp3 = pth+\"Beach House\\\\Thank Your Lucky Stars\\\\\"+'1-01 Majorette.mp3'\n",
    "\n",
    "example_m4a = pth+\"Los Campesinos!\\\\Hello Sadness\\\\01 By Your Hand.m4a\""
   ]
  },
  {
   "cell_type": "markdown",
   "metadata": {},
   "source": [
    "The mfcc we will use later uses one channel, so i'll keep the stereo version but make a one channel version."
   ]
  },
  {
   "cell_type": "code",
   "execution_count": 9,
   "metadata": {},
   "outputs": [],
   "source": [
    "def general_musicimport_stereo(pathinput):\n",
    "    if pathinput[-4:] == \".m4a\":\n",
    "        seg = AudioSegment.from_file(pathinput)\n",
    "        sampling_rate = seg.frame_rate\n",
    "        channel_sounds = seg.split_to_mono()\n",
    "        samples_stereo = [s.get_array_of_samples() for s in channel_sounds]\n",
    "        samples_stereo = np.asarray(samples_stereo).transpose()\n",
    "        #may need to make sure this is right\n",
    "        return samples_stereo, sampling_rate\n",
    "    elif pathinput[-4:] == \".mp3\":\n",
    "        #open audio from audio 2 numpy\n",
    "        signal, sampling_rate = open_audio(pathinput)\n",
    "        return signal, sampling_rate\n",
    "    else:\n",
    "        print(\"This filetype isn't one that this was built for, it is of filetype\" + pathinput[-4:])"
   ]
  },
  {
   "cell_type": "markdown",
   "metadata": {},
   "source": [
    "Below also added a part that sets frame rate as 44100."
   ]
  },
  {
   "cell_type": "code",
   "execution_count": 10,
   "metadata": {},
   "outputs": [],
   "source": [
    "def general_musicimport(pathinput):\n",
    "    seg = AudioSegment.from_file(pathinput).set_channels(1).set_frame_rate(44100)\n",
    "    sampling_rate = seg.frame_rate\n",
    "    samples_stereo = seg.get_array_of_samples()\n",
    "    samples_stereo = np.asarray(samples_stereo).transpose()\n",
    "    #may need to make sure this is right\n",
    "    return samples_stereo, sampling_rate\n"
   ]
  },
  {
   "cell_type": "code",
   "execution_count": 11,
   "metadata": {},
   "outputs": [],
   "source": [
    "byh, srate = general_musicimport(example_m4a)"
   ]
  },
  {
   "cell_type": "code",
   "execution_count": 12,
   "metadata": {},
   "outputs": [],
   "source": [
    "sd.play(byh, srate)"
   ]
  },
  {
   "cell_type": "code",
   "execution_count": 13,
   "metadata": {},
   "outputs": [
    {
     "data": {
      "text/plain": [
       "(10951616,)"
      ]
     },
     "execution_count": 13,
     "metadata": {},
     "output_type": "execute_result"
    }
   ],
   "source": [
    "byh.shape"
   ]
  },
  {
   "cell_type": "code",
   "execution_count": 14,
   "metadata": {},
   "outputs": [],
   "source": [
    "sd.stop()"
   ]
  },
  {
   "cell_type": "code",
   "execution_count": 199,
   "metadata": {},
   "outputs": [],
   "source": [
    "mjr, srate = general_musicimport(example_mp3)"
   ]
  },
  {
   "cell_type": "code",
   "execution_count": 200,
   "metadata": {},
   "outputs": [],
   "source": [
    "sd.play(mjr, srate)"
   ]
  },
  {
   "cell_type": "code",
   "execution_count": 201,
   "metadata": {},
   "outputs": [
    {
     "data": {
      "text/plain": [
       "(10617516,)"
      ]
     },
     "execution_count": 201,
     "metadata": {},
     "output_type": "execute_result"
    }
   ],
   "source": [
    "mjr.shape"
   ]
  },
  {
   "cell_type": "markdown",
   "metadata": {},
   "source": [
    "Okay, so this generally works!  How slow is it..."
   ]
  },
  {
   "cell_type": "code",
   "execution_count": 202,
   "metadata": {},
   "outputs": [
    {
     "name": "stdout",
     "output_type": "stream",
     "text": [
      "869 ms ± 9.61 ms per loop (mean ± std. dev. of 7 runs, 1 loop each)\n"
     ]
    }
   ],
   "source": [
    "#for m4a\n",
    "%timeit byh, srate = general_musicimport(example_m4a)"
   ]
  },
  {
   "cell_type": "code",
   "execution_count": 203,
   "metadata": {},
   "outputs": [
    {
     "name": "stdout",
     "output_type": "stream",
     "text": [
      "996 ms ± 14.2 ms per loop (mean ± std. dev. of 7 runs, 1 loop each)\n"
     ]
    }
   ],
   "source": [
    "#for mp3\n",
    "%timeit mjr, srate = general_musicimport(example_mp3)"
   ]
  },
  {
   "cell_type": "markdown",
   "metadata": {},
   "source": [
    "Okay, not great, but for these purposes fine.  Interestingly m4a seemed to be a lot slower with audio2numpy, but pydub is better.\n",
    "\n",
    "Next step is moving on to a test train split, before taking 30 second samples randomly from songs."
   ]
  },
  {
   "cell_type": "code",
   "execution_count": 15,
   "metadata": {},
   "outputs": [],
   "source": [
    "#a function to take all songs of an artist and select\n",
    "def allsongs(artist):\n",
    "    bhlist = []\n",
    "    for i in os.listdir(pth+artist):\n",
    "        lv = os.listdir(pth+artist+\"\\\\\"+i)\n",
    "        lv = [pth+artist+\"\\\\\"+i+\"\\\\\"+sname for sname in lv]\n",
    "        bhlist.extend(lv)\n",
    "    return bhlist"
   ]
  },
  {
   "cell_type": "code",
   "execution_count": 16,
   "metadata": {},
   "outputs": [],
   "source": [
    "from sklearn.model_selection import train_test_split\n",
    "\n",
    "bh_list = allsongs(\"Beach House\")\n",
    "lc_list = allsongs(\"Los Campesinos!\")"
   ]
  },
  {
   "cell_type": "code",
   "execution_count": 17,
   "metadata": {},
   "outputs": [],
   "source": [
    "BHTrain, BHTest = train_test_split(bh_list, test_size=0.2, random_state=4)\n",
    "LCTrain, LCTest = train_test_split(lc_list, test_size=0.2, random_state=4)"
   ]
  },
  {
   "cell_type": "code",
   "execution_count": 18,
   "metadata": {},
   "outputs": [],
   "source": [
    "Train = BHTrain + LCTrain\n",
    "Test = BHTest + LCTest"
   ]
  },
  {
   "cell_type": "code",
   "execution_count": 19,
   "metadata": {},
   "outputs": [],
   "source": [
    "random.shuffle(Train)\n",
    "random.shuffle(Test)"
   ]
  },
  {
   "cell_type": "markdown",
   "metadata": {},
   "source": [
    "Now that test and train are selected, let's load them in.  The plan will be:\n",
    "\n",
    "make a function that loads in everything in the list.\n",
    "\n",
    "From there, make a function that randomly selects a song, and makes a random 30 second sample of it."
   ]
  },
  {
   "cell_type": "code",
   "execution_count": 20,
   "metadata": {},
   "outputs": [
    {
     "data": {
      "text/plain": [
       "['C:',\n",
       " 'Users',\n",
       " 'matfl',\n",
       " 'Music',\n",
       " 'iTunes',\n",
       " 'iTunes Media',\n",
       " 'Music',\n",
       " 'Los Campesinos!',\n",
       " 'NO BLUES',\n",
       " '1-04 Cemetery Gaits.mp3']"
      ]
     },
     "execution_count": 20,
     "metadata": {},
     "output_type": "execute_result"
    }
   ],
   "source": [
    "re.split(r'/|\\\\', r\"C:\\Users\\matfl\\Music\\iTunes\\iTunes Media\\Music\\Los Campesinos!\\NO BLUES\\1-04 Cemetery Gaits.mp3\")"
   ]
  },
  {
   "cell_type": "code",
   "execution_count": 21,
   "metadata": {},
   "outputs": [],
   "source": [
    "def loadsonglist(songlist):\n",
    "    retlist = []\n",
    "    for i in songlist:\n",
    "        print(i)\n",
    "        signal, sr = general_musicimport(i)\n",
    "        artist = re.split(r'/|\\\\', i)[7]  \n",
    "        #will always be in position 7 for me in music folder, dont need to deal with raw since it is a variable\n",
    "        retlist.append([signal, sr, artist])\n",
    "    return retlist"
   ]
  },
  {
   "cell_type": "code",
   "execution_count": 22,
   "metadata": {
    "scrolled": false
   },
   "outputs": [
    {
     "name": "stdout",
     "output_type": "stream",
     "text": [
      "C:\\Users\\matfl\\Music\\iTunes\\iTunes Media\\Music\\Los Campesinos!\\Hold on Now, Youngster.._\\04 Drop It Doe Eyes.m4a\n",
      "C:\\Users\\matfl\\Music\\iTunes\\iTunes Media\\Music\\Los Campesinos!\\Romance Is Boring\\10 Heart Swells   100-1.mp3\n",
      "C:\\Users\\matfl\\Music\\iTunes\\iTunes Media\\Music\\Los Campesinos!\\Hello Sadness\\09 Baby I Got The Death Rattle.m4a\n",
      "C:\\Users\\matfl\\Music\\iTunes\\iTunes Media\\Music\\Los Campesinos!\\Hello Sadness\\04 Life Is A Long Time.m4a\n",
      "C:\\Users\\matfl\\Music\\iTunes\\iTunes Media\\Music\\Beach House\\Beach House\\1-01 Saltwater.mp3\n",
      "C:\\Users\\matfl\\Music\\iTunes\\iTunes Media\\Music\\Beach House\\Devotion\\02 You Came To Me.m4a\n",
      "C:\\Users\\matfl\\Music\\iTunes\\iTunes Media\\Music\\Beach House\\Bloom\\09 On The Sea.m4a\n",
      "C:\\Users\\matfl\\Music\\iTunes\\iTunes Media\\Music\\Beach House\\7\\11 Last Ride.m4a\n",
      "C:\\Users\\matfl\\Music\\iTunes\\iTunes Media\\Music\\Beach House\\Devotion\\04 Turtle Island.m4a\n",
      "C:\\Users\\matfl\\Music\\iTunes\\iTunes Media\\Music\\Los Campesinos!\\NO BLUES\\1-02 What Death Leaves Behind.mp3\n",
      "C:\\Users\\matfl\\Music\\iTunes\\iTunes Media\\Music\\Los Campesinos!\\Sticking Fingers Into Sockets\\02 It Started With a Mixx.m4a\n",
      "C:\\Users\\matfl\\Music\\iTunes\\iTunes Media\\Music\\Los Campesinos!\\Hold on Now, Youngster.._\\10 ...And We Exhale and Roll Our Eye.m4a\n",
      "C:\\Users\\matfl\\Music\\iTunes\\iTunes Media\\Music\\Beach House\\Bloom\\02 Wild.m4a\n",
      "C:\\Users\\matfl\\Music\\iTunes\\iTunes Media\\Music\\Los Campesinos!\\We Are  Beautiful, We Are Doomed Disc 1\\06 It's Never That Easy Though, Is I.m4a\n",
      "C:\\Users\\matfl\\Music\\iTunes\\iTunes Media\\Music\\Beach House\\Devotion\\05 Holy Dances.m4a\n",
      "C:\\Users\\matfl\\Music\\iTunes\\iTunes Media\\Music\\Beach House\\7\\08 Lose Your Smile.m4a\n",
      "C:\\Users\\matfl\\Music\\iTunes\\iTunes Media\\Music\\Beach House\\7\\01 Dark Spring.m4a\n",
      "C:\\Users\\matfl\\Music\\iTunes\\iTunes Media\\Music\\Beach House\\Teen Dream\\03 Norway.m4a\n",
      "C:\\Users\\matfl\\Music\\iTunes\\iTunes Media\\Music\\Los Campesinos!\\Sticking Fingers Into Sockets\\06 Clunk-Rewind-Clunk-Play-Clunk.m4a\n",
      "C:\\Users\\matfl\\Music\\iTunes\\iTunes Media\\Music\\Beach House\\Depression Cherry\\05 10 37.mp3\n",
      "C:\\Users\\matfl\\Music\\iTunes\\iTunes Media\\Music\\Beach House\\Devotion\\10 D.A.R.L.I.N.G.m4a\n",
      "C:\\Users\\matfl\\Music\\iTunes\\iTunes Media\\Music\\Beach House\\7\\03 Lemon Glow.m4a\n",
      "C:\\Users\\matfl\\Music\\iTunes\\iTunes Media\\Music\\Beach House\\Thank Your Lucky Stars\\1-05 Common Girl.mp3\n",
      "C:\\Users\\matfl\\Music\\iTunes\\iTunes Media\\Music\\Los Campesinos!\\Romance Is Boring\\05 Plan A.mp3\n",
      "C:\\Users\\matfl\\Music\\iTunes\\iTunes Media\\Music\\Los Campesinos!\\Romance Is Boring\\04 We_ve Got Your Back (Documented E.mp3\n",
      "C:\\Users\\matfl\\Music\\iTunes\\iTunes Media\\Music\\Beach House\\Depression Cherry\\04 Beyond Love.mp3\n",
      "C:\\Users\\matfl\\Music\\iTunes\\iTunes Media\\Music\\Los Campesinos!\\A Good Night For A Fistfight (Live At Is\\1-04 By Your Hand (Live At Islington.mp3\n",
      "C:\\Users\\matfl\\Music\\iTunes\\iTunes Media\\Music\\Los Campesinos!\\Hold on Now, Youngster.._\\06 Knee Deep at ATP.m4a\n",
      "C:\\Users\\matfl\\Music\\iTunes\\iTunes Media\\Music\\Beach House\\Teen Dream\\08 10 Mile Stereo.m4a\n",
      "C:\\Users\\matfl\\Music\\iTunes\\iTunes Media\\Music\\Beach House\\Teen Dream\\02 Silver Soul.m4a\n",
      "C:\\Users\\matfl\\Music\\iTunes\\iTunes Media\\Music\\Beach House\\Depression Cherry\\03 Space Song.mp3\n",
      "C:\\Users\\matfl\\Music\\iTunes\\iTunes Media\\Music\\Beach House\\Depression Cherry\\01 Levitation.mp3\n",
      "C:\\Users\\matfl\\Music\\iTunes\\iTunes Media\\Music\\Los Campesinos!\\Hold on Now, Youngster.._\\08 We Are All Accelerated Readers.m4a\n",
      "C:\\Users\\matfl\\Music\\iTunes\\iTunes Media\\Music\\Los Campesinos!\\Romance Is Boring\\15 Coda  A Burn Scar in the Shape of.mp3\n",
      "C:\\Users\\matfl\\Music\\iTunes\\iTunes Media\\Music\\Beach House\\Thank Your Lucky Stars\\1-01 Majorette.mp3\n",
      "C:\\Users\\matfl\\Music\\iTunes\\iTunes Media\\Music\\Los Campesinos!\\NO BLUES\\1-03 A Portrait Of The Trequartista.mp3\n",
      "C:\\Users\\matfl\\Music\\iTunes\\iTunes Media\\Music\\Los Campesinos!\\NO BLUES\\1-08 Let It Spill.mp3\n",
      "C:\\Users\\matfl\\Music\\iTunes\\iTunes Media\\Music\\Los Campesinos!\\We Are  Beautiful, We Are Doomed Disc 1\\01 Ways to Make It Through the Wall.m4a\n",
      "C:\\Users\\matfl\\Music\\iTunes\\iTunes Media\\Music\\Los Campesinos!\\A Good Night For A Fistfight (Live At Is\\1-08 Songs About Your Girlfriend (Li.mp3\n",
      "C:\\Users\\matfl\\Music\\iTunes\\iTunes Media\\Music\\Los Campesinos!\\Hello Sadness\\03 Hello Sadness.m4a\n",
      "C:\\Users\\matfl\\Music\\iTunes\\iTunes Media\\Music\\Los Campesinos!\\We Are  Beautiful, We Are Doomed Disc 1\\04 Between an Erupting Earth and an.m4a\n",
      "C:\\Users\\matfl\\Music\\iTunes\\iTunes Media\\Music\\Los Campesinos!\\Romance Is Boring\\08 Who Fell Asleep In.mp3\n",
      "C:\\Users\\matfl\\Music\\iTunes\\iTunes Media\\Music\\Los Campesinos!\\A Good Night For A Fistfight (Live At Is\\1-05 Hello Sadness (Live At Islingto.mp3\n",
      "C:\\Users\\matfl\\Music\\iTunes\\iTunes Media\\Music\\Los Campesinos!\\A Good Night For A Fistfight (Live At Is\\1-07 Heart Swells 100-1  I Just Sigh.mp3\n",
      "C:\\Users\\matfl\\Music\\iTunes\\iTunes Media\\Music\\Los Campesinos!\\We Are  Beautiful, We Are Doomed Disc 1\\02 Miserabilia.m4a\n",
      "C:\\Users\\matfl\\Music\\iTunes\\iTunes Media\\Music\\Beach House\\Depression Cherry\\02 Sparks.mp3\n",
      "C:\\Users\\matfl\\Music\\iTunes\\iTunes Media\\Music\\Los Campesinos!\\Romance Is Boring\\02 There Are Listed Buildings.mp3\n",
      "C:\\Users\\matfl\\Music\\iTunes\\iTunes Media\\Music\\Los Campesinos!\\Romance Is Boring\\07 Straight in at 101.mp3\n",
      "C:\\Users\\matfl\\Music\\iTunes\\iTunes Media\\Music\\Los Campesinos!\\Hold on Now, Youngster.._\\03 Don't Tell Me to Do the Math(s).m4a\n",
      "C:\\Users\\matfl\\Music\\iTunes\\iTunes Media\\Music\\Beach House\\Beach House\\1-03 Apple Orchard.mp3\n",
      "C:\\Users\\matfl\\Music\\iTunes\\iTunes Media\\Music\\Beach House\\Thank Your Lucky Stars\\1-03 All Your Yeahs.mp3\n",
      "C:\\Users\\matfl\\Music\\iTunes\\iTunes Media\\Music\\Los Campesinos!\\A Good Night For A Fistfight (Live At Is\\1-10 We Are Beautiful, We Are Doomed.mp3\n",
      "C:\\Users\\matfl\\Music\\iTunes\\iTunes Media\\Music\\Beach House\\Bloom\\03 Lazuli.m4a\n",
      "C:\\Users\\matfl\\Music\\iTunes\\iTunes Media\\Music\\Beach House\\Beach House\\1-02 Tokyo Witch.mp3\n",
      "C:\\Users\\matfl\\Music\\iTunes\\iTunes Media\\Music\\Beach House\\7\\09 Woo.m4a\n",
      "C:\\Users\\matfl\\Music\\iTunes\\iTunes Media\\Music\\Los Campesinos!\\Sick Scenes\\09 Got Stendhal's.m4a\n",
      "C:\\Users\\matfl\\Music\\iTunes\\iTunes Media\\Music\\Los Campesinos!\\Hold on Now, Youngster.._\\11 Sweet Dreams, Sweet Cheeks.m4a\n",
      "C:\\Users\\matfl\\Music\\iTunes\\iTunes Media\\Music\\Beach House\\Depression Cherry\\09 Days of Candy.mp3\n",
      "C:\\Users\\matfl\\Music\\iTunes\\iTunes Media\\Music\\Los Campesinos!\\Hold on Now, Youngster.._\\02 Broken Heartbeats Sound Like Brea.m4a\n",
      "C:\\Users\\matfl\\Music\\iTunes\\iTunes Media\\Music\\Beach House\\Bloom\\10 Irene.m4a\n",
      "C:\\Users\\matfl\\Music\\iTunes\\iTunes Media\\Music\\Los Campesinos!\\Sick Scenes\\05 The Fall Of Home.m4a\n",
      "C:\\Users\\matfl\\Music\\iTunes\\iTunes Media\\Music\\Los Campesinos!\\We Are  Beautiful, We Are Doomed Disc 1\\03 We Are Beautiful, We Are Doomed.m4a\n",
      "C:\\Users\\matfl\\Music\\iTunes\\iTunes Media\\Music\\Beach House\\Teen Dream\\09 Real Love.m4a\n",
      "C:\\Users\\matfl\\Music\\iTunes\\iTunes Media\\Music\\Beach House\\Teen Dream\\04 Walk In The Park.m4a\n",
      "C:\\Users\\matfl\\Music\\iTunes\\iTunes Media\\Music\\Los Campesinos!\\A Good Night For A Fistfight (Live At Is\\1-19 In Medias Res (Live At Islingto.mp3\n",
      "C:\\Users\\matfl\\Music\\iTunes\\iTunes Media\\Music\\Los Campesinos!\\Romance Is Boring\\03 Romance Is Boring.mp3\n",
      "C:\\Users\\matfl\\Music\\iTunes\\iTunes Media\\Music\\Beach House\\Beach House\\1-05 Auburn and Ivory.mp3\n",
      "C:\\Users\\matfl\\Music\\iTunes\\iTunes Media\\Music\\Los Campesinos!\\Romance Is Boring\\06 200 – 102.mp3\n",
      "C:\\Users\\matfl\\Music\\iTunes\\iTunes Media\\Music\\Los Campesinos!\\Sick Scenes\\10 A Litany   Heart Swells.m4a\n",
      "C:\\Users\\matfl\\Music\\iTunes\\iTunes Media\\Music\\Los Campesinos!\\Romance Is Boring\\12 A Heat Rash in the Shape of the S.mp3\n",
      "C:\\Users\\matfl\\Music\\iTunes\\iTunes Media\\Music\\Los Campesinos!\\Hello Sadness\\10 Light Leaves, Dark Sees pt. II.m4a\n",
      "C:\\Users\\matfl\\Music\\iTunes\\iTunes Media\\Music\\Beach House\\Devotion\\06 All The Years.m4a\n",
      "C:\\Users\\matfl\\Music\\iTunes\\iTunes Media\\Music\\Beach House\\Thank Your Lucky Stars\\1-04 One Thing.mp3\n",
      "C:\\Users\\matfl\\Music\\iTunes\\iTunes Media\\Music\\Los Campesinos!\\NO BLUES\\1-07 Avocado, Baby.mp3\n",
      "C:\\Users\\matfl\\Music\\iTunes\\iTunes Media\\Music\\Beach House\\Thank Your Lucky Stars\\1-06 The Traveller.mp3\n",
      "C:\\Users\\matfl\\Music\\iTunes\\iTunes Media\\Music\\Beach House\\Bloom\\06 Troublemaker.m4a\n",
      "C:\\Users\\matfl\\Music\\iTunes\\iTunes Media\\Music\\Los Campesinos!\\Sick Scenes\\02 Sad Suppers.m4a\n"
     ]
    },
    {
     "name": "stdout",
     "output_type": "stream",
     "text": [
      "C:\\Users\\matfl\\Music\\iTunes\\iTunes Media\\Music\\Beach House\\7\\07 Black Car.m4a\n",
      "C:\\Users\\matfl\\Music\\iTunes\\iTunes Media\\Music\\Beach House\\7\\04 L'Inconnue.m4a\n",
      "C:\\Users\\matfl\\Music\\iTunes\\iTunes Media\\Music\\Los Campesinos!\\A Good Night For A Fistfight (Live At Is\\1-01 Ways To Make It Through The Wal.mp3\n",
      "C:\\Users\\matfl\\Music\\iTunes\\iTunes Media\\Music\\Los Campesinos!\\Sick Scenes\\11 Hung Empty.m4a\n",
      "C:\\Users\\matfl\\Music\\iTunes\\iTunes Media\\Music\\Los Campesinos!\\Hello Sadness\\01 By Your Hand.m4a\n",
      "C:\\Users\\matfl\\Music\\iTunes\\iTunes Media\\Music\\Los Campesinos!\\We Are  Beautiful, We Are Doomed Disc 1\\07 The End of the Asterisk.m4a\n",
      "C:\\Users\\matfl\\Music\\iTunes\\iTunes Media\\Music\\Beach House\\Depression Cherry\\07 Wildflower.mp3\n",
      "C:\\Users\\matfl\\Music\\iTunes\\iTunes Media\\Music\\Los Campesinos!\\Hello Sadness\\07 The Black Bird, The Dark Slope.m4a\n",
      "C:\\Users\\matfl\\Music\\iTunes\\iTunes Media\\Music\\Beach House\\Devotion\\08 Some Things Last a Long Time.m4a\n",
      "C:\\Users\\matfl\\Music\\iTunes\\iTunes Media\\Music\\Los Campesinos!\\Romance Is Boring\\14 This Is a Flag. There Is No Wind.mp3\n",
      "C:\\Users\\matfl\\Music\\iTunes\\iTunes Media\\Music\\Los Campesinos!\\Hold on Now, Youngster.._\\01 Death to Los Campesinos!.m4a\n",
      "C:\\Users\\matfl\\Music\\iTunes\\iTunes Media\\Music\\Los Campesinos!\\NO BLUES\\1-10 Selling Rope (Swan Dive To Estu.mp3\n",
      "C:\\Users\\matfl\\Music\\iTunes\\iTunes Media\\Music\\Beach House\\Devotion\\07 Heart of Chambers.m4a\n",
      "C:\\Users\\matfl\\Music\\iTunes\\iTunes Media\\Music\\Beach House\\Bloom\\04 Other People.m4a\n",
      "C:\\Users\\matfl\\Music\\iTunes\\iTunes Media\\Music\\Los Campesinos!\\We Throw Parties, You Throw Knives\\01 We Throw Parties, You Throw Knive.mp3\n",
      "C:\\Users\\matfl\\Music\\iTunes\\iTunes Media\\Music\\Los Campesinos!\\Hold on Now, Youngster.._\\12 [Untitled Hidden Track].m4a\n",
      "C:\\Users\\matfl\\Music\\iTunes\\iTunes Media\\Music\\Beach House\\Beach House\\1-08 House on the HIll.mp3\n",
      "C:\\Users\\matfl\\Music\\iTunes\\iTunes Media\\Music\\Beach House\\Beach House\\1-07 Lovelier Girl.mp3\n",
      "C:\\Users\\matfl\\Music\\iTunes\\iTunes Media\\Music\\Los Campesinos!\\Sick Scenes\\08 For Whom The Belly Tolls.m4a\n",
      "C:\\Users\\matfl\\Music\\iTunes\\iTunes Media\\Music\\Los Campesinos!\\We Are  Beautiful, We Are Doomed Disc 1\\05 You'll Need Those Fingers for Cro.m4a\n",
      "C:\\Users\\matfl\\Music\\iTunes\\iTunes Media\\Music\\Los Campesinos!\\Romance Is Boring\\01 In Medias Res.mp3\n",
      "C:\\Users\\matfl\\Music\\iTunes\\iTunes Media\\Music\\Los Campesinos!\\Romance Is Boring\\11 I Just Sighed. I Just Sighed, Jus.mp3\n",
      "C:\\Users\\matfl\\Music\\iTunes\\iTunes Media\\Music\\Los Campesinos!\\Hello Sadness\\08 To Tundra.m4a\n",
      "C:\\Users\\matfl\\Music\\iTunes\\iTunes Media\\Music\\Beach House\\Devotion\\01 Wedding Bell.m4a\n",
      "C:\\Users\\matfl\\Music\\iTunes\\iTunes Media\\Music\\Los Campesinos!\\Hello Sadness\\05 Every Defeat A Divorce (Three Lio.m4a\n",
      "C:\\Users\\matfl\\Music\\iTunes\\iTunes Media\\Music\\Beach House\\Teen Dream\\05 Used To Be.m4a\n",
      "C:\\Users\\matfl\\Music\\iTunes\\iTunes Media\\Music\\Beach House\\Bloom\\08 Wishes.m4a\n",
      "C:\\Users\\matfl\\Music\\iTunes\\iTunes Media\\Music\\Beach House\\Beach House\\1-06 Childhood.mp3\n",
      "C:\\Users\\matfl\\Music\\iTunes\\iTunes Media\\Music\\Los Campesinos!\\A Good Night For A Fistfight (Live At Is\\1-06 A Heat Rash in the Shape of the.mp3\n",
      "C:\\Users\\matfl\\Music\\iTunes\\iTunes Media\\Music\\Los Campesinos!\\Sick Scenes\\06 5 Flucloxacillin.m4a\n",
      "C:\\Users\\matfl\\Music\\iTunes\\iTunes Media\\Music\\Beach House\\Teen Dream\\10 Take Care.m4a\n",
      "C:\\Users\\matfl\\Music\\iTunes\\iTunes Media\\Music\\Los Campesinos!\\A Good Night For A Fistfight (Live At Is\\1-13 Straight In At 101 (Live At Isl.mp3\n",
      "C:\\Users\\matfl\\Music\\iTunes\\iTunes Media\\Music\\Los Campesinos!\\A Good Night For A Fistfight (Live At Is\\1-16 The Sea Is A Good Place To Thin.mp3\n",
      "C:\\Users\\matfl\\Music\\iTunes\\iTunes Media\\Music\\Los Campesinos!\\NO BLUES\\1-04 Cemetery Gaits.mp3\n",
      "C:\\Users\\matfl\\Music\\iTunes\\iTunes Media\\Music\\Los Campesinos!\\A Good Night For A Fistfight (Live At Is\\1-20 We Throw Parties, You Throw Kni.mp3\n",
      "C:\\Users\\matfl\\Music\\iTunes\\iTunes Media\\Music\\Los Campesinos!\\A Good Night For A Fistfight (Live At Is\\1-12 Knee Deep At ATP (Live At Islin.mp3\n",
      "C:\\Users\\matfl\\Music\\iTunes\\iTunes Media\\Music\\Beach House\\7\\10 Girl Of The Year.m4a\n",
      "C:\\Users\\matfl\\Music\\iTunes\\iTunes Media\\Music\\Los Campesinos!\\Hold on Now, Youngster.._\\05 My Year in Lists.m4a\n",
      "C:\\Users\\matfl\\Music\\iTunes\\iTunes Media\\Music\\Beach House\\Teen Dream\\01 Zebra.m4a\n",
      "C:\\Users\\matfl\\Music\\iTunes\\iTunes Media\\Music\\Los Campesinos!\\Hello Sadness\\02 Songs About Your Girlfriend.m4a\n",
      "C:\\Users\\matfl\\Music\\iTunes\\iTunes Media\\Music\\Los Campesinos!\\We Are  Beautiful, We Are Doomed Disc 1\\10 All Your Kayfabe Friends.m4a\n",
      "C:\\Users\\matfl\\Music\\iTunes\\iTunes Media\\Music\\Los Campesinos!\\Sick Scenes\\04 A Slow, Slow Death.m4a\n",
      "C:\\Users\\matfl\\Music\\iTunes\\iTunes Media\\Music\\Beach House\\Teen Dream\\06 Lover Of Mine.m4a\n",
      "C:\\Users\\matfl\\Music\\iTunes\\iTunes Media\\Music\\Los Campesinos!\\NO BLUES\\1-09 The Time Before The Last Time.mp3\n",
      "C:\\Users\\matfl\\Music\\iTunes\\iTunes Media\\Music\\Beach House\\7\\02 Pay No Mind.m4a\n",
      "C:\\Users\\matfl\\Music\\iTunes\\iTunes Media\\Music\\Los Campesinos!\\We Are  Beautiful, We Are Doomed Disc 1\\09 Heart Swells Pacific Daylight Tim.m4a\n",
      "C:\\Users\\matfl\\Music\\iTunes\\iTunes Media\\Music\\Beach House\\Depression Cherry\\06 PPP.mp3\n",
      "C:\\Users\\matfl\\Music\\iTunes\\iTunes Media\\Music\\Los Campesinos!\\A Good Night For A Fistfight (Live At Is\\1-09 Miserabilia (Live At Islington.mp3\n",
      "C:\\Users\\matfl\\Music\\iTunes\\iTunes Media\\Music\\Beach House\\Thank Your Lucky Stars\\1-09 Somewhere Tonight.mp3\n",
      "C:\\Users\\matfl\\Music\\iTunes\\iTunes Media\\Music\\Beach House\\Thank Your Lucky Stars\\1-08 Rough Song.mp3\n",
      "C:\\Users\\matfl\\Music\\iTunes\\iTunes Media\\Music\\Los Campesinos!\\A Good Night For A Fistfight (Live At Is\\1-18 Baby I Got The Death Rattle (Li.mp3\n",
      "C:\\Users\\matfl\\Music\\iTunes\\iTunes Media\\Music\\Los Campesinos!\\NO BLUES\\1-05 Glue Me.mp3\n",
      "C:\\Users\\matfl\\Music\\iTunes\\iTunes Media\\Music\\Los Campesinos!\\A Good Night For A Fistfight (Live At Is\\1-02 Death To Los Campesinos! (Live.mp3\n"
     ]
    }
   ],
   "source": [
    "Train_songs = loadsonglist(Train)"
   ]
  },
  {
   "cell_type": "markdown",
   "metadata": {},
   "source": [
    "Going to hold off on loading test for now...no real reason to put it in memory.  Also, do any of these have any different frequencies?"
   ]
  },
  {
   "cell_type": "code",
   "execution_count": 23,
   "metadata": {},
   "outputs": [],
   "source": [
    "freqs = [i[1] for i in Train_songs]"
   ]
  },
  {
   "cell_type": "code",
   "execution_count": 24,
   "metadata": {},
   "outputs": [
    {
     "data": {
      "text/plain": [
       "Counter({44100: 130})"
      ]
     },
     "execution_count": 24,
     "metadata": {},
     "output_type": "execute_result"
    }
   ],
   "source": [
    "Counter(freqs)"
   ]
  },
  {
   "cell_type": "markdown",
   "metadata": {},
   "source": [
    "Okay, a few, so i'll hold on.  Makes this more generalizable anyways.  This function takes a song and makes a 30 second sample:\n",
    "\n",
    "(NOTE - they no longer all have diff frequencies but I will still keep this for now)."
   ]
  },
  {
   "cell_type": "code",
   "execution_count": 25,
   "metadata": {},
   "outputs": [
    {
     "data": {
      "text/plain": [
       "array([0, 0, 0, ..., 0, 0, 0], dtype=int16)"
      ]
     },
     "execution_count": 25,
     "metadata": {},
     "output_type": "execute_result"
    }
   ],
   "source": [
    "Train_songs[0][0]"
   ]
  },
  {
   "cell_type": "markdown",
   "metadata": {},
   "source": [
    "Going to set the seed before I take more samples."
   ]
  },
  {
   "cell_type": "code",
   "execution_count": 26,
   "metadata": {},
   "outputs": [],
   "source": [
    "random.seed(12345)"
   ]
  },
  {
   "cell_type": "code",
   "execution_count": 27,
   "metadata": {},
   "outputs": [],
   "source": [
    "def thirty_sec_samp(songarray, rate):\n",
    "    start = random.randint(0, songarray.shape[0] - 30*rate - 1)\n",
    "    #I am not adding code to deal with songs under 30 seconds, but ideally I would.\n",
    "    return songarray[start:start+30*rate], rate"
   ]
  },
  {
   "cell_type": "markdown",
   "metadata": {},
   "source": [
    "Trying it out"
   ]
  },
  {
   "cell_type": "code",
   "execution_count": 28,
   "metadata": {},
   "outputs": [],
   "source": [
    "thirtysecsamp, sr30 = thirty_sec_samp(Train_songs[32][0], Train_songs[32][1])"
   ]
  },
  {
   "cell_type": "code",
   "execution_count": 29,
   "metadata": {},
   "outputs": [],
   "source": [
    "sd.play(thirtysecsamp, sr30)"
   ]
  },
  {
   "cell_type": "code",
   "execution_count": 30,
   "metadata": {},
   "outputs": [],
   "source": [
    "sd.stop()"
   ]
  },
  {
   "cell_type": "markdown",
   "metadata": {},
   "source": [
    "Looks like 30 seconds of death to Los Campesinos!  This works. now to take a random number of them:"
   ]
  },
  {
   "cell_type": "code",
   "execution_count": 31,
   "metadata": {},
   "outputs": [],
   "source": [
    "def make_sample_dataset(dataset, numberofsamps=200):\n",
    "    n = 0\n",
    "    retlist = []\n",
    "    while n < numberofsamps:\n",
    "        i = random.randint(0, len(dataset)-1)\n",
    "        songsample, rate = thirty_sec_samp(dataset[i][0], dataset[i][1])\n",
    "        retlist.append([songsample, rate, dataset[i][2]]) #artist is dataset i 2\n",
    "        n += 1\n",
    "    return retlist\n",
    "        "
   ]
  },
  {
   "cell_type": "code",
   "execution_count": 32,
   "metadata": {},
   "outputs": [],
   "source": [
    "Train_samples = make_sample_dataset(Train_songs)"
   ]
  },
  {
   "cell_type": "markdown",
   "metadata": {},
   "source": [
    "This is fast - let's listen to another sample to make sure it works."
   ]
  },
  {
   "cell_type": "code",
   "execution_count": 33,
   "metadata": {
    "scrolled": true
   },
   "outputs": [
    {
     "data": {
      "text/plain": [
       "200"
      ]
     },
     "execution_count": 33,
     "metadata": {},
     "output_type": "execute_result"
    }
   ],
   "source": [
    "len(Train_samples)"
   ]
  },
  {
   "cell_type": "code",
   "execution_count": 34,
   "metadata": {},
   "outputs": [
    {
     "data": {
      "text/plain": [
       "[array([ 9085,  9594,  9542, ..., -8558, -8578, -9464], dtype=int16),\n",
       " 44100,\n",
       " 'Beach House']"
      ]
     },
     "execution_count": 34,
     "metadata": {},
     "output_type": "execute_result"
    }
   ],
   "source": [
    "Train_samples[132]"
   ]
  },
  {
   "cell_type": "code",
   "execution_count": 35,
   "metadata": {},
   "outputs": [],
   "source": [
    "sd.stop()"
   ]
  },
  {
   "cell_type": "code",
   "execution_count": 36,
   "metadata": {},
   "outputs": [],
   "source": [
    "sd.play(Train_samples[132][0], Train_samples[132][1])"
   ]
  },
  {
   "cell_type": "markdown",
   "metadata": {},
   "source": [
    "A little sample of beach hosue!"
   ]
  },
  {
   "cell_type": "code",
   "execution_count": 38,
   "metadata": {},
   "outputs": [],
   "source": [
    "#want a good one for an example of charts - a lot of these have noise on top of them...just due to beach house style\n",
    "sd.play(Train_samples[12][0], Train_samples[12][1])"
   ]
  },
  {
   "cell_type": "code",
   "execution_count": 39,
   "metadata": {},
   "outputs": [],
   "source": [
    "sd.stop()"
   ]
  },
  {
   "cell_type": "markdown",
   "metadata": {},
   "source": [
    "Let's see if it can see the high synths in myth"
   ]
  },
  {
   "cell_type": "markdown",
   "metadata": {},
   "source": [
    "### Extracting features!\n",
    "\n",
    "To extract features, we'll use librosa to get the MFCC values, which are basically amplitudes of different frequency ranges over the sample."
   ]
  },
  {
   "cell_type": "code",
   "execution_count": 40,
   "metadata": {
    "scrolled": true
   },
   "outputs": [],
   "source": [
    "#testing:\n",
    "investigation_mfcc = librosa.feature.mfcc(Train_samples[12][0].astype('float32'), Train_samples[12][1])"
   ]
  },
  {
   "cell_type": "code",
   "execution_count": 41,
   "metadata": {},
   "outputs": [
    {
     "data": {
      "text/plain": [
       "(20, 2584)"
      ]
     },
     "execution_count": 41,
     "metadata": {},
     "output_type": "execute_result"
    }
   ],
   "source": [
    "investigation_mfcc.shape"
   ]
  },
  {
   "cell_type": "code",
   "execution_count": 42,
   "metadata": {},
   "outputs": [
    {
     "data": {
      "image/png": "[encoded data removed]",
      "text/plain": [
       "<Figure size 720x288 with 2 Axes>"
      ]
     },
     "metadata": {
      "needs_background": "light"
     },
     "output_type": "display_data"
    }
   ],
   "source": [
    "import librosa.display\n",
    "plt.figure(figsize=(10, 4))\n",
    "librosa.display.specshow(investigation_mfcc, x_axis='time', y_axis='mel')\n",
    "plt.colorbar()\n",
    "plt.tight_layout()\n",
    "plt.show()"
   ]
  },
  {
   "cell_type": "markdown",
   "metadata": {},
   "source": [
    "Let's try normalizing."
   ]
  },
  {
   "cell_type": "code",
   "execution_count": 43,
   "metadata": {},
   "outputs": [],
   "source": [
    "def normalize_audio(audio):\n",
    "    audio = audio / np.max(np.abs(audio))\n",
    "    return audio\n",
    "a_test = normalize_audio(Train_samples[12][0].astype('float32'))\n",
    "investigation_mfcc = librosa.feature.mfcc(a_test, Train_samples[102][1])"
   ]
  },
  {
   "cell_type": "code",
   "execution_count": 99,
   "metadata": {},
   "outputs": [
    {
     "data": {
      "text/plain": [
       "(20, 2584)"
      ]
     },
     "execution_count": 99,
     "metadata": {},
     "output_type": "execute_result"
    }
   ],
   "source": [
    "investigation_mfcc.shape"
   ]
  },
  {
   "cell_type": "code",
   "execution_count": 100,
   "metadata": {},
   "outputs": [
    {
     "data": {
      "image/png": "[encoded data removed]",
      "text/plain": [
       "<Figure size 720x288 with 2 Axes>"
      ]
     },
     "metadata": {
      "needs_background": "light"
     },
     "output_type": "display_data"
    }
   ],
   "source": [
    "plt.figure(figsize=(10, 4))\n",
    "librosa.display.specshow(investigation_mfcc, x_axis='time', y_axis='mel')\n",
    "plt.colorbar()\n",
    "plt.tight_layout()\n",
    "plt.show()"
   ]
  },
  {
   "cell_type": "markdown",
   "metadata": {},
   "source": [
    "Looking at more graphs:"
   ]
  },
  {
   "cell_type": "code",
   "execution_count": 101,
   "metadata": {},
   "outputs": [
    {
     "data": {
      "image/png": "[encoded data removed]",
      "text/plain": [
       "<Figure size 1080x288 with 1 Axes>"
      ]
     },
     "metadata": {
      "needs_background": "light"
     },
     "output_type": "display_data"
    }
   ],
   "source": [
    "plt.figure(figsize=(15,4))\n",
    "plt.plot(np.linspace(0, len(a_test) / Train_samples[12][1], num=len(a_test)), a_test)\n",
    "plt.grid(True)\n"
   ]
  },
  {
   "cell_type": "code",
   "execution_count": 49,
   "metadata": {},
   "outputs": [],
   "source": [
    "sd.play(a_test, Train_samples[192][1])"
   ]
  },
  {
   "cell_type": "code",
   "execution_count": 50,
   "metadata": {},
   "outputs": [],
   "source": [
    "sd.stop()"
   ]
  },
  {
   "cell_type": "code",
   "execution_count": 103,
   "metadata": {
    "scrolled": true
   },
   "outputs": [
    {
     "data": {
      "image/png": "[encoded data removed]",
      "text/plain": [
       "<Figure size 720x288 with 2 Axes>"
      ]
     },
     "metadata": {
      "needs_background": "light"
     },
     "output_type": "display_data"
    }
   ],
   "source": [
    "#testing:\n",
    "investigation_mfcc2 = librosa.feature.mfcc(Train_samples[192][0].astype('float32'), Train_samples[192][1])\n",
    "\n",
    "plt.figure(figsize=(10, 4))\n",
    "librosa.display.specshow(investigation_mfcc2, x_axis='time', y_axis='mel')\n",
    "plt.colorbar()\n",
    "plt.tight_layout()\n",
    "plt.show()"
   ]
  },
  {
   "cell_type": "code",
   "execution_count": 111,
   "metadata": {
    "scrolled": true
   },
   "outputs": [
    {
     "data": {
      "text/plain": [
       "(20, 2584)"
      ]
     },
     "execution_count": 111,
     "metadata": {},
     "output_type": "execute_result"
    }
   ],
   "source": [
    "investigation_mfcc2.shape"
   ]
  },
  {
   "cell_type": "markdown",
   "metadata": {},
   "source": [
    "One thing to try next is updating the way features are extracted:"
   ]
  },
  {
   "cell_type": "code",
   "execution_count": 117,
   "metadata": {},
   "outputs": [],
   "source": [
    "def extract_features_song(val):\n",
    "    # get Mel-frequency cepstral coefficients\n",
    "    mfcc = librosa.feature.mfcc(val[0].astype('float32'), val[i])\n",
    "    # normalize values between -1,1 (divide by max)\n",
    "    mfcc /= np.amax(np.absolute(mfcc))\n",
    "\n",
    "    return np.ndarray.flatten(mfcc)[:25000]\n"
   ]
  },
  {
   "cell_type": "code",
   "execution_count": 112,
   "metadata": {},
   "outputs": [],
   "source": [
    "Train_samples_features =\\\n",
    "[[librosa.feature.mfcc(i[0].astype('float32'), sr=i[1]), i[2]]\n",
    "                         for i in Train_samples]"
   ]
  },
  {
   "cell_type": "markdown",
   "metadata": {},
   "source": [
    "Let's delete the full songs from memory to clear up some memory for a model."
   ]
  },
  {
   "cell_type": "code",
   "execution_count": 53,
   "metadata": {},
   "outputs": [],
   "source": [
    "del(Train_songs)"
   ]
  },
  {
   "cell_type": "code",
   "execution_count": 113,
   "metadata": {},
   "outputs": [
    {
     "data": {
      "text/plain": [
       "(20, 2584)"
      ]
     },
     "execution_count": 113,
     "metadata": {},
     "output_type": "execute_result"
    }
   ],
   "source": [
    "Train_samples_features[0][0].shape"
   ]
  },
  {
   "cell_type": "markdown",
   "metadata": {},
   "source": [
    "Let's better prepare this:"
   ]
  },
  {
   "cell_type": "code",
   "execution_count": 114,
   "metadata": {},
   "outputs": [],
   "source": [
    "intermed = [i[0].flatten() for i in Train_samples_features]"
   ]
  },
  {
   "cell_type": "code",
   "execution_count": 115,
   "metadata": {
    "scrolled": true
   },
   "outputs": [],
   "source": [
    "Train_samples_features_np = np.stack(intermed, 0)"
   ]
  },
  {
   "cell_type": "code",
   "execution_count": 116,
   "metadata": {},
   "outputs": [
    {
     "data": {
      "text/plain": [
       "(200, 51680)"
      ]
     },
     "execution_count": 116,
     "metadata": {},
     "output_type": "execute_result"
    }
   ],
   "source": [
    "Train_samples_features_np.shape"
   ]
  },
  {
   "cell_type": "code",
   "execution_count": 92,
   "metadata": {},
   "outputs": [],
   "source": [
    "intermed_y = [i[1] for i in Train_samples_features]"
   ]
  },
  {
   "cell_type": "code",
   "execution_count": 93,
   "metadata": {},
   "outputs": [],
   "source": [
    "from sklearn.preprocessing import OneHotEncoder"
   ]
  },
  {
   "cell_type": "code",
   "execution_count": 94,
   "metadata": {},
   "outputs": [],
   "source": [
    "ohc = OneHotEncoder(sparse=False)\n",
    "y_labels = ohc.fit_transform(np.array(intermed_y).reshape(-1,1))"
   ]
  },
  {
   "cell_type": "markdown",
   "metadata": {},
   "source": [
    "### Modeling!\n",
    "\n",
    "This version is simple and will flatten the mfcc features - a better version will use a CNN or RNN with them later."
   ]
  },
  {
   "cell_type": "code",
   "execution_count": 118,
   "metadata": {},
   "outputs": [],
   "source": [
    "from keras.models import Sequential\n",
    "from keras.layers import Dense, Activation\n",
    "from keras.utils.np_utils import to_categorical\n"
   ]
  },
  {
   "cell_type": "markdown",
   "metadata": {},
   "source": [
    "Let's make a really simple model:"
   ]
  },
  {
   "cell_type": "code",
   "execution_count": 124,
   "metadata": {},
   "outputs": [
    {
     "name": "stdout",
     "output_type": "stream",
     "text": [
      "Model: \"sequential_6\"\n",
      "_________________________________________________________________\n",
      "Layer (type)                 Output Shape              Param #   \n",
      "=================================================================\n",
      "dense_11 (Dense)             (None, 100)               5168100   \n",
      "_________________________________________________________________\n",
      "activation_11 (Activation)   (None, 100)               0         \n",
      "_________________________________________________________________\n",
      "dense_12 (Dense)             (None, 2)                 202       \n",
      "_________________________________________________________________\n",
      "activation_12 (Activation)   (None, 2)                 0         \n",
      "=================================================================\n",
      "Total params: 5,168,302\n",
      "Trainable params: 5,168,302\n",
      "Non-trainable params: 0\n",
      "_________________________________________________________________\n",
      "None\n"
     ]
    }
   ],
   "source": [
    "model = Sequential([\n",
    "    Dense(100, input_dim=np.shape(Train_samples_features_np)[1]),\n",
    "    Activation('relu'),\n",
    "    Dense(2),\n",
    "    Activation('sigmoid'),\n",
    "    ])\n",
    "\n",
    "model.compile(optimizer='adam',\n",
    "              loss='binary_crossentropy',\n",
    "              metrics=['accuracy'])\n",
    "print(model.summary())"
   ]
  },
  {
   "cell_type": "code",
   "execution_count": 125,
   "metadata": {},
   "outputs": [
    {
     "name": "stdout",
     "output_type": "stream",
     "text": [
      "Train on 160 samples, validate on 40 samples\n",
      "Epoch 1/30\n",
      " - 0s - loss: 1420.0721 - accuracy: 0.5500 - val_loss: 2796.0989 - val_accuracy: 0.5500\n",
      "Epoch 2/30\n",
      " - 0s - loss: 1557.2937 - accuracy: 0.5469 - val_loss: 315.7364 - val_accuracy: 0.6500\n",
      "Epoch 3/30\n",
      " - 0s - loss: 400.6289 - accuracy: 0.7406 - val_loss: 466.3524 - val_accuracy: 0.6875\n",
      "Epoch 4/30\n",
      " - 0s - loss: 312.4995 - accuracy: 0.7625 - val_loss: 481.4660 - val_accuracy: 0.5875\n",
      "Epoch 5/30\n",
      " - 0s - loss: 144.3512 - accuracy: 0.7937 - val_loss: 166.0053 - val_accuracy: 0.7625\n",
      "Epoch 6/30\n",
      " - 0s - loss: 143.7406 - accuracy: 0.8500 - val_loss: 133.2467 - val_accuracy: 0.7500\n",
      "Epoch 7/30\n",
      " - 0s - loss: 80.6107 - accuracy: 0.8656 - val_loss: 51.1795 - val_accuracy: 0.8875\n",
      "Epoch 8/30\n",
      " - 0s - loss: 37.6696 - accuracy: 0.9594 - val_loss: 11.7020 - val_accuracy: 0.9375\n",
      "Epoch 9/30\n",
      " - 0s - loss: 44.6875 - accuracy: 0.9406 - val_loss: 34.1898 - val_accuracy: 0.9125\n",
      "Epoch 10/30\n",
      " - 0s - loss: 26.1631 - accuracy: 0.9312 - val_loss: 54.8489 - val_accuracy: 0.8500\n",
      "Epoch 11/30\n",
      " - 0s - loss: 15.5505 - accuracy: 0.9563 - val_loss: 13.3769 - val_accuracy: 0.9500\n",
      "Epoch 12/30\n",
      " - 0s - loss: 9.3037 - accuracy: 0.9719 - val_loss: 12.8573 - val_accuracy: 0.9375\n",
      "Epoch 13/30\n",
      " - 0s - loss: 2.2094 - accuracy: 0.9906 - val_loss: 45.3527 - val_accuracy: 0.8750\n",
      "Epoch 14/30\n",
      " - 0s - loss: 3.2513 - accuracy: 0.9750 - val_loss: 22.0670 - val_accuracy: 0.9250\n",
      "Epoch 15/30\n",
      " - 0s - loss: 1.2941 - accuracy: 0.9875 - val_loss: 15.9036 - val_accuracy: 0.9375\n",
      "Epoch 16/30\n",
      " - 0s - loss: 1.3525 - accuracy: 0.9906 - val_loss: 17.6854 - val_accuracy: 0.9375\n",
      "Epoch 17/30\n",
      " - 0s - loss: 1.1545e-20 - accuracy: 1.0000 - val_loss: 21.7694 - val_accuracy: 0.9250\n",
      "Epoch 18/30\n",
      " - 0s - loss: 2.5263e-10 - accuracy: 1.0000 - val_loss: 27.4218 - val_accuracy: 0.9000\n",
      "Epoch 19/30\n",
      " - 0s - loss: 0.3741 - accuracy: 0.9937 - val_loss: 22.9249 - val_accuracy: 0.9000\n",
      "Epoch 20/30\n",
      " - 0s - loss: 6.6649e-11 - accuracy: 1.0000 - val_loss: 16.9358 - val_accuracy: 0.9375\n",
      "Epoch 21/30\n",
      " - 0s - loss: 0.6615 - accuracy: 0.9969 - val_loss: 16.5710 - val_accuracy: 0.9500\n",
      "Epoch 22/30\n",
      " - 0s - loss: 0.4830 - accuracy: 0.9969 - val_loss: 17.3081 - val_accuracy: 0.9375\n",
      "Epoch 23/30\n",
      " - 0s - loss: 0.0000e+00 - accuracy: 1.0000 - val_loss: 19.2083 - val_accuracy: 0.9250\n",
      "Epoch 24/30\n",
      " - 0s - loss: 0.0000e+00 - accuracy: 1.0000 - val_loss: 20.9189 - val_accuracy: 0.9250\n",
      "Epoch 25/30\n",
      " - 0s - loss: 0.0000e+00 - accuracy: 1.0000 - val_loss: 23.4768 - val_accuracy: 0.9125\n",
      "Epoch 26/30\n",
      " - 0s - loss: 0.0000e+00 - accuracy: 1.0000 - val_loss: 26.7228 - val_accuracy: 0.9000\n",
      "Epoch 27/30\n",
      " - 0s - loss: 0.0000e+00 - accuracy: 1.0000 - val_loss: 29.3926 - val_accuracy: 0.8875\n",
      "Epoch 28/30\n",
      " - 0s - loss: 0.0000e+00 - accuracy: 1.0000 - val_loss: 31.4454 - val_accuracy: 0.9000\n",
      "Epoch 29/30\n",
      " - 0s - loss: 0.0000e+00 - accuracy: 1.0000 - val_loss: 33.0970 - val_accuracy: 0.9000\n",
      "Epoch 30/30\n",
      " - 0s - loss: 0.0000e+00 - accuracy: 1.0000 - val_loss: 34.3261 - val_accuracy: 0.9000\n"
     ]
    },
    {
     "data": {
      "text/plain": [
       "<keras.callbacks.callbacks.History at 0x1c93766af28>"
      ]
     },
     "execution_count": 125,
     "metadata": {},
     "output_type": "execute_result"
    }
   ],
   "source": [
    "model.fit(Train_samples_features_np, y_labels, epochs=30, batch_size=64,\n",
    "          validation_split=0.2, verbose=2, shuffle=True)\n",
    "\n",
    "#loss, acc = model.evaluate(test_input, test_labels, batch_size=32)\n",
    "\n",
    "#print(\"Done!\")\n",
    "#print(\"Loss: %.4f, accuracy: %.4f\" % (loss, acc))"
   ]
  },
  {
   "cell_type": "markdown",
   "metadata": {},
   "source": [
    "Okay, it gets up to 90%.  Next steps:\n",
    "\n",
    "- trying this on test\n",
    "- making waaay more samples so this can get better\n",
    "- updating the mfcc to be smaller and normalized\n",
    "\n",
    "And of course, later on, trying more appropriate models."
   ]
  },
  {
   "cell_type": "code",
   "execution_count": null,
   "metadata": {},
   "outputs": [],
   "source": []
  }
 ],
 "metadata": {
  "kernelspec": {
   "display_name": "Python [conda env:root] *",
   "language": "python",
   "name": "conda-root-py"
  },
  "language_info": {
   "codemirror_mode": {
    "name": "ipython",
    "version": 3
   },
   "file_extension": ".py",
   "mimetype": "text/x-python",
   "name": "python",
   "nbconvert_exporter": "python",
   "pygments_lexer": "ipython3",
   "version": "3.7.1"
  }
 },
 "nbformat": 4,
 "nbformat_minor": 2
}
